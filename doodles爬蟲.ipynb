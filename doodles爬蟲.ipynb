{
  "nbformat": 4,
  "nbformat_minor": 0,
  "metadata": {
    "colab": {
      "name": "doodles爬蟲.ipynb",
      "provenance": [],
      "authorship_tag": "ABX9TyPbi5C5+ZSjntjE/bWEIaIB",
      "include_colab_link": true
    },
    "kernelspec": {
      "name": "python3",
      "display_name": "Python 3"
    }
  },
  "cells": [
    {
      "cell_type": "markdown",
      "metadata": {
        "id": "view-in-github",
        "colab_type": "text"
      },
      "source": [
        "<a href=\"https://colab.research.google.com/github/s24966904/note/blob/main/doodles%E7%88%AC%E8%9F%B2.ipynb\" target=\"_parent\"><img src=\"https://colab.research.google.com/assets/colab-badge.svg\" alt=\"Open In Colab\"/></a>"
      ]
    },
    {
      "cell_type": "code",
      "metadata": {
        "id": "l4BzGmHLzP21"
      },
      "source": [
        "from urllib.request import urlopen,urlretrieve\n",
        "import json\n",
        "# year=2000\n",
        "# month=1\n",
        "url=\"https://www.google.com/doodles/json/2020/7?hl=zh-TW\"\n",
        "response=urlopen(url)\n",
        "doodles=json.load(response)#json格式 list\n",
        "\n",
        "for d in doodles:\n",
        "  url=\"https:\"+d[\"url\"]\n",
        "\n",
        "\n",
        "#針對圖片做處理\n",
        "  response=urlopen(url)\n",
        "  img=response.read()\n",
        "  fname=\"doodles2/\"+url.split(\"/\")[-1] #檔案路徑與名稱\n",
        "\n",
        "#存檔1\n",
        "  # f=open(fname,\"wb\")\n",
        "  # f.write(img)\n",
        "  # f.close()\n",
        "\n",
        "#存檔2\n",
        "  urlretrieve(url,fname)\n",
        "  "
      ],
      "execution_count": 15,
      "outputs": []
    }
  ]
}