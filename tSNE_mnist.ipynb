{
  "nbformat": 4,
  "nbformat_minor": 0,
  "metadata": {
    "colab": {
      "name": "tSNE mnist.ipynb",
      "provenance": [],
      "collapsed_sections": [],
      "include_colab_link": true
    },
    "kernelspec": {
      "name": "python3",
      "display_name": "Python 3"
    },
    "accelerator": "GPU"
  },
  "cells": [
    {
      "cell_type": "markdown",
      "metadata": {
        "id": "view-in-github",
        "colab_type": "text"
      },
      "source": [
        "<a href=\"https://colab.research.google.com/github/s24966904/note/blob/main/tSNE_mnist.ipynb\" target=\"_parent\"><img src=\"https://colab.research.google.com/assets/colab-badge.svg\" alt=\"Open In Colab\"/></a>"
      ]
    },
    {
      "cell_type": "code",
      "metadata": {
        "id": "L3krvDzUUAio"
      },
      "source": [
        "import tensorflow as tf\n",
        "from tensorflow import keras\n",
        "import numpy as np\n",
        "import matplotlib.pyplot as plt\n",
        "from sklearn import manifold"
      ],
      "execution_count": null,
      "outputs": []
    },
    {
      "cell_type": "code",
      "metadata": {
        "colab": {
          "base_uri": "https://localhost:8080/"
        },
        "id": "m6ZaM5UXUJQE",
        "outputId": "e88c3d10-14aa-47ef-944a-b850d14b74aa"
      },
      "source": [
        "(x_train, y_train), (x_val, y_val) = keras.datasets.mnist.load_data()\n",
        "x_train = np.expand_dims(x_train, axis=-1)\n",
        "x_val = np.expand_dims(x_val, axis=-1)\n",
        "y_train = keras.utils.to_categorical(y_train, num_classes=10)\n",
        "y_val = keras.utils.to_categorical(y_val, num_classes=10)"
      ],
      "execution_count": null,
      "outputs": [
        {
          "output_type": "stream",
          "text": [
            "Downloading data from https://storage.googleapis.com/tensorflow/tf-keras-datasets/mnist.npz\n",
            "11493376/11490434 [==============================] - 0s 0us/step\n"
          ],
          "name": "stdout"
        }
      ]
    },
    {
      "cell_type": "code",
      "metadata": {
        "colab": {
          "base_uri": "https://localhost:8080/"
        },
        "id": "4pjWbrVMUQ4S",
        "outputId": "796f0809-f318-4709-cefd-74333a8e3cf3"
      },
      "source": [
        "x_train.shape, y_train.shape"
      ],
      "execution_count": null,
      "outputs": [
        {
          "output_type": "execute_result",
          "data": {
            "text/plain": [
              "((60000, 28, 28, 1), (60000, 10))"
            ]
          },
          "metadata": {
            "tags": []
          },
          "execution_count": 3
        }
      ]
    },
    {
      "cell_type": "code",
      "metadata": {
        "id": "c5sLR7PTUTSK"
      },
      "source": [
        "model = keras.models.Sequential([\n",
        "    keras.layers.Conv2D(16 ,3, padding='same', activation='relu', input_shape=(28,28,1)),\n",
        "    keras.layers.Conv2D(16 ,3, padding='same', activation='relu'),\n",
        "    keras.layers.MaxPooling2D(),\n",
        "    keras.layers.Conv2D(32 ,3, padding='same', activation='relu'),\n",
        "    keras.layers.Conv2D(32 ,3, padding='same', activation='relu'),\n",
        "    keras.layers.MaxPooling2D(),\n",
        "    keras.layers.Flatten(),\n",
        "    keras.layers.Dense(10, activation='softmax')\n",
        "])"
      ],
      "execution_count": null,
      "outputs": []
    },
    {
      "cell_type": "code",
      "metadata": {
        "id": "pkmxWhCuUzwg"
      },
      "source": [
        "model.compile(keras.optimizers.Adam(), keras.losses.categorical_crossentropy, metrics=[keras.metrics.categorical_accuracy])"
      ],
      "execution_count": null,
      "outputs": []
    },
    {
      "cell_type": "code",
      "metadata": {
        "colab": {
          "base_uri": "https://localhost:8080/"
        },
        "id": "I7qCdLelU9OB",
        "outputId": "fb1c7728-53c1-4c6c-be04-ea13ab424e3e"
      },
      "source": [
        "model.fit(x_train, y_train, epochs=10)"
      ],
      "execution_count": null,
      "outputs": [
        {
          "output_type": "stream",
          "text": [
            "Epoch 1/10\n",
            "1875/1875 [==============================] - 12s 3ms/step - loss: 0.7413 - categorical_accuracy: 0.8755\n",
            "Epoch 2/10\n",
            "1875/1875 [==============================] - 6s 3ms/step - loss: 0.0567 - categorical_accuracy: 0.9824\n",
            "Epoch 3/10\n",
            "1875/1875 [==============================] - 6s 3ms/step - loss: 0.0398 - categorical_accuracy: 0.9872\n",
            "Epoch 4/10\n",
            "1875/1875 [==============================] - 6s 3ms/step - loss: 0.0344 - categorical_accuracy: 0.9888\n",
            "Epoch 5/10\n",
            "1875/1875 [==============================] - 6s 3ms/step - loss: 0.0293 - categorical_accuracy: 0.9906\n",
            "Epoch 6/10\n",
            "1875/1875 [==============================] - 6s 3ms/step - loss: 0.0255 - categorical_accuracy: 0.9915\n",
            "Epoch 7/10\n",
            "1875/1875 [==============================] - 6s 3ms/step - loss: 0.0207 - categorical_accuracy: 0.9931\n",
            "Epoch 8/10\n",
            "1875/1875 [==============================] - 6s 3ms/step - loss: 0.0221 - categorical_accuracy: 0.9930\n",
            "Epoch 9/10\n",
            "1875/1875 [==============================] - 6s 3ms/step - loss: 0.0196 - categorical_accuracy: 0.9937\n",
            "Epoch 10/10\n",
            "1875/1875 [==============================] - 6s 3ms/step - loss: 0.0161 - categorical_accuracy: 0.9945\n"
          ],
          "name": "stdout"
        },
        {
          "output_type": "execute_result",
          "data": {
            "text/plain": [
              "<tensorflow.python.keras.callbacks.History at 0x7f84200239b0>"
            ]
          },
          "metadata": {
            "tags": []
          },
          "execution_count": 6
        }
      ]
    },
    {
      "cell_type": "code",
      "metadata": {
        "id": "6oTiK3ZpVSir"
      },
      "source": [
        "model2 = keras.models.Model(model.inputs, model.layers[-2].output)"
      ],
      "execution_count": null,
      "outputs": []
    },
    {
      "cell_type": "code",
      "metadata": {
        "colab": {
          "base_uri": "https://localhost:8080/"
        },
        "id": "7km9qzvMV0zW",
        "outputId": "1b2dbb97-a389-435d-8681-16c7528eaaec"
      },
      "source": [
        "model2.summary()"
      ],
      "execution_count": null,
      "outputs": [
        {
          "output_type": "stream",
          "text": [
            "Model: \"model\"\n",
            "_________________________________________________________________\n",
            "Layer (type)                 Output Shape              Param #   \n",
            "=================================================================\n",
            "conv2d_input (InputLayer)    [(None, 28, 28, 1)]       0         \n",
            "_________________________________________________________________\n",
            "conv2d (Conv2D)              (None, 28, 28, 16)        160       \n",
            "_________________________________________________________________\n",
            "conv2d_1 (Conv2D)            (None, 28, 28, 16)        2320      \n",
            "_________________________________________________________________\n",
            "max_pooling2d (MaxPooling2D) (None, 14, 14, 16)        0         \n",
            "_________________________________________________________________\n",
            "conv2d_2 (Conv2D)            (None, 14, 14, 32)        4640      \n",
            "_________________________________________________________________\n",
            "conv2d_3 (Conv2D)            (None, 14, 14, 32)        9248      \n",
            "_________________________________________________________________\n",
            "max_pooling2d_1 (MaxPooling2 (None, 7, 7, 32)          0         \n",
            "_________________________________________________________________\n",
            "flatten (Flatten)            (None, 1568)              0         \n",
            "=================================================================\n",
            "Total params: 16,368\n",
            "Trainable params: 16,368\n",
            "Non-trainable params: 0\n",
            "_________________________________________________________________\n"
          ],
          "name": "stdout"
        }
      ]
    },
    {
      "cell_type": "code",
      "metadata": {
        "id": "482NhXXZV1dv"
      },
      "source": [
        "x_train_features = model2.predict(x_train)"
      ],
      "execution_count": null,
      "outputs": []
    },
    {
      "cell_type": "code",
      "metadata": {
        "id": "nhR3T6wKV-na"
      },
      "source": [
        "y_train_raw = np.argmax(y_train, axis=-1)"
      ],
      "execution_count": null,
      "outputs": []
    },
    {
      "cell_type": "code",
      "metadata": {
        "colab": {
          "base_uri": "https://localhost:8080/"
        },
        "id": "aAXnE2dlWDis",
        "outputId": "7c3008d5-158b-4b2a-b7d6-8b0d0723985d"
      },
      "source": [
        "x_train_features.shape, y_train_raw.shape"
      ],
      "execution_count": null,
      "outputs": [
        {
          "output_type": "execute_result",
          "data": {
            "text/plain": [
              "((60000, 1568), (60000,))"
            ]
          },
          "metadata": {
            "tags": []
          },
          "execution_count": 11
        }
      ]
    },
    {
      "cell_type": "code",
      "metadata": {
        "colab": {
          "base_uri": "https://localhost:8080/"
        },
        "id": "Q7YlKPiwWGjO",
        "outputId": "f1dc8748-9f4c-4a92-e6ab-2ef3da1dee04"
      },
      "source": [
        "x_tsne = manifold.TSNE(n_components=2, init='random', random_state=5, verbose=1).fit_transform(x_train_features[:1000])"
      ],
      "execution_count": null,
      "outputs": [
        {
          "output_type": "stream",
          "text": [
            "[t-SNE] Computing 91 nearest neighbors...\n",
            "[t-SNE] Indexed 1000 samples in 0.101s...\n",
            "[t-SNE] Computed neighbors for 1000 samples in 3.169s...\n",
            "[t-SNE] Computed conditional probabilities for sample 1000 / 1000\n",
            "[t-SNE] Mean sigma: 10.981778\n",
            "[t-SNE] KL divergence after 250 iterations with early exaggeration: 68.802460\n",
            "[t-SNE] KL divergence after 1000 iterations: 0.760117\n"
          ],
          "name": "stdout"
        }
      ]
    },
    {
      "cell_type": "code",
      "metadata": {
        "colab": {
          "base_uri": "https://localhost:8080/",
          "height": 483
        },
        "id": "uX2nAvxGWTlV",
        "outputId": "1e19beb8-b36a-400b-ea7c-e20208e1ae3a"
      },
      "source": [
        "# normalize\n",
        "x_min, x_max = x_tsne.min(0), x_tsne.max(0)\n",
        "x_norm = (x_tsne - x_min) / (x_max - x_min)\n",
        "\n",
        "plt.figure(figsize=(8, 8))\n",
        "cmap = plt.cm.get_cmap(\"hsv\", 10)\n",
        "for i in range(len(x_tsne[:])):\n",
        "    digit = y_train_raw[i]\n",
        "    plt.scatter(x_norm[i, 0], x_norm[i, 1], color=cmap(digit), )\n",
        "plt.legend([str(i) for i in range(10)])\n",
        "plt.show()"
      ],
      "execution_count": null,
      "outputs": [
        {
          "output_type": "display_data",
          "data": {
            "image/png": "[encoded data removed]",
            "text/plain": [
              "<Figure size 576x576 with 1 Axes>"
            ]
          },
          "metadata": {
            "tags": [],
            "needs_background": "light"
          }
        }
      ]
    },
    {
      "cell_type": "code",
      "metadata": {
        "id": "ZAyGjxmmZVxj"
      },
      "source": [
        ""
      ],
      "execution_count": null,
      "outputs": []
    }
  ]
}