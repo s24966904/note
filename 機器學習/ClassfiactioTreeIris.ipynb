{
  "nbformat": 4,
  "nbformat_minor": 0,
  "metadata": {
    "colab": {
      "name": "ClassfiactioTreeIris.ipynb",
      "provenance": [],
      "authorship_tag": "ABX9TyPvh8QmCTunBgKb5FtOr24A",
      "include_colab_link": true
    },
    "kernelspec": {
      "name": "python3",
      "display_name": "Python 3"
    }
  },
  "cells": [
    {
      "cell_type": "markdown",
      "metadata": {
        "id": "view-in-github",
        "colab_type": "text"
      },
      "source": [
        "<a href=\"https://colab.research.google.com/github/s24966904/note/blob/main/%E6%A9%9F%E5%99%A8%E5%AD%B8%E7%BF%92/ClassfiactioTreeIris.ipynb\" target=\"_parent\"><img src=\"https://colab.research.google.com/assets/colab-badge.svg\" alt=\"Open In Colab\"/></a>"
      ]
    },
    {
      "cell_type": "code",
      "metadata": {
        "id": "aQ6-IiQI5Y_r"
      },
      "source": [
        "from sklearn.datasets import load_iris\n",
        "iris = load_iris()"
      ],
      "execution_count": 57,
      "outputs": []
    },
    {
      "cell_type": "code",
      "metadata": {
        "id": "lgK0Ne_V5hg_"
      },
      "source": [
        "import pandas as pd\n",
        "\n",
        "df=pd.DataFrame(iris[\"data\"],columns=['sepal length (cm)',\n",
        "  'sepal width (cm)',\n",
        "  'petal length (cm)',\n",
        "  'petal width (cm)'])\n",
        "\n",
        "target=pd.DataFrame(iris[\"target\"],columns=['target_names'])\n",
        "df[\"target\"]=target\n",
        "df.to_csv(\"iris.csv\",encoding=\"utf-8\",index=False)"
      ],
      "execution_count": 58,
      "outputs": []
    },
    {
      "cell_type": "code",
      "metadata": {
        "colab": {
          "base_uri": "https://localhost:8080/",
          "height": 527
        },
        "id": "TZp7Nevd5u6t",
        "outputId": "2cf714ca-b65f-48c0-9780-cea337d3da2b"
      },
      "source": [
        "import matplotlib.pyplot as plt\n",
        "import seaborn as sns\n",
        "%matplotlib inline\n",
        "\n",
        "\n",
        "plt.figure(figsize=(8,7))\n",
        "sns.heatmap(df.astype(float).corr(),vmin=-1, vmax=1,center=0,annot=True,linewidths=3,cmap=\"bwr\")#挑選顏色matplotlib colormap"
      ],
      "execution_count": 59,
      "outputs": [
        {
          "output_type": "execute_result",
          "data": {
            "text/plain": [
              "<matplotlib.axes._subplots.AxesSubplot at 0x7f79fca2f5d0>"
            ]
          },
          "metadata": {
            "tags": []
          },
          "execution_count": 59
        },
        {
          "output_type": "display_data",
          "data": {
            "image/png": "[encoded data removed]",
            "text/plain": [
              "<Figure size 576x504 with 2 Axes>"
            ]
          },
          "metadata": {
            "tags": [],
            "needs_background": "light"
          }
        }
      ]
    },
    {
      "cell_type": "code",
      "metadata": {
        "id": "Uw4T3qSgJo0j"
      },
      "source": [
        "from sklearn.model_selection import train_test_split\n",
        "x_train,x_test,y_train,y_test=train_test_split(df.drop(['target'],axis=1),df['target'],test_size=.1)"
      ],
      "execution_count": 60,
      "outputs": []
    },
    {
      "cell_type": "code",
      "metadata": {
        "colab": {
          "base_uri": "https://localhost:8080/"
        },
        "id": "psYd4pD16hw9",
        "outputId": "7f3a1b6f-01ff-4747-cac7-c401508d11dd"
      },
      "source": [
        "from sklearn.tree import DecisionTreeClassifier\n",
        "clf =DecisionTreeClassifier(max_depth=3)\n",
        "clf.fit(x_train,y_train)\n",
        "#gini係數 0~1越接近0代表資料純粹度越高\n",
        "#entropy 亂度 0~1越接近0代表數值越亂"
      ],
      "execution_count": 61,
      "outputs": [
        {
          "output_type": "execute_result",
          "data": {
            "text/plain": [
              "DecisionTreeClassifier(ccp_alpha=0.0, class_weight=None, criterion='gini',\n",
              "                       max_depth=3, max_features=None, max_leaf_nodes=None,\n",
              "                       min_impurity_decrease=0.0, min_impurity_split=None,\n",
              "                       min_samples_leaf=1, min_samples_split=2,\n",
              "                       min_weight_fraction_leaf=0.0, presort='deprecated',\n",
              "                       random_state=None, splitter='best')"
            ]
          },
          "metadata": {
            "tags": []
          },
          "execution_count": 61
        }
      ]
    },
    {
      "cell_type": "code",
      "metadata": {
        "colab": {
          "base_uri": "https://localhost:8080/",
          "height": 598
        },
        "id": "hET8CY2E-oSr",
        "outputId": "05825eef-10e4-42f6-bd53-92ad3a8d5d06"
      },
      "source": [
        "import graphviz\n",
        "from sklearn.tree import export_graphviz\n",
        "g=export_graphviz(clf,out_file=None,feature_names=iris['feature_names'],class_names=iris['target_names'],filled=True,rounded=True,special_characters=True)\n",
        "graph=graphviz.Source(g)\n",
        "graph"
      ],
      "execution_count": 62,
      "outputs": [
        {
          "output_type": "execute_result",
          "data": {
            "text/plain": [
              "<graphviz.files.Source at 0x7f79fbdc6210>"
            ],
            "image/svg+xml": "<?xml version=\"1.0\" encoding=\"UTF-8\" standalone=\"no\"?>\n<!DOCTYPE svg PUBLIC \"-//W3C//DTD SVG 1.1//EN\"\n \"http://www.w3.org/Graphics/SVG/1.1/DTD/svg11.dtd\">\n<!-- Generated by graphviz version 2.40.1 (20161225.0304)\n -->\n<!-- Title: Tree Pages: 1 -->\n<svg width=\"576pt\" height=\"433pt\"\n viewBox=\"0.00 0.00 575.50 433.00\" xmlns=\"http://www.w3.org/2000/svg\" xmlns:xlink=\"http://www.w3.org/1999/xlink\">\n<g id=\"graph0\" class=\"graph\" transform=\"scale(1 1) rotate(0) translate(4 429)\">\n<title>Tree</title>\n<polygon fill=\"#ffffff\" stroke=\"transparent\" points=\"-4,4 -4,-429 571.5,-429 571.5,4 -4,4\"/>\n<!-- 0 -->\n<g id=\"node1\" class=\"node\">\n<title>0</title>\n<path fill=\"#fbfefc\" stroke=\"#000000\" d=\"M270.5,-425C270.5,-425 141.5,-425 141.5,-425 135.5,-425 129.5,-419 129.5,-413 129.5,-413 129.5,-354 129.5,-354 129.5,-348 135.5,-342 141.5,-342 141.5,-342 270.5,-342 270.5,-342 276.5,-342 282.5,-348 282.5,-354 282.5,-354 282.5,-413 282.5,-413 282.5,-419 276.5,-425 270.5,-425\"/>\n<text text-anchor=\"start\" x=\"137.5\" y=\"-409.8\" font-family=\"Helvetica,sans-Serif\" font-size=\"14.00\" fill=\"#000000\">petal width (cm) ≤ 0.8</text>\n<text text-anchor=\"start\" x=\"168\" y=\"-394.8\" font-family=\"Helvetica,sans-Serif\" font-size=\"14.00\" fill=\"#000000\">gini = 0.666</text>\n<text text-anchor=\"start\" x=\"158\" y=\"-379.8\" font-family=\"Helvetica,sans-Serif\" font-size=\"14.00\" fill=\"#000000\">samples = 135</text>\n<text text-anchor=\"start\" x=\"144\" y=\"-364.8\" font-family=\"Helvetica,sans-Serif\" font-size=\"14.00\" fill=\"#000000\">value = [45, 47, 43]</text>\n<text text-anchor=\"start\" x=\"150\" y=\"-349.8\" font-family=\"Helvetica,sans-Serif\" font-size=\"14.00\" fill=\"#000000\">class = versicolor</text>\n</g>\n<!-- 1 -->\n<g id=\"node2\" class=\"node\">\n<title>1</title>\n<path fill=\"#e58139\" stroke=\"#000000\" d=\"M175.5,-298.5C175.5,-298.5 76.5,-298.5 76.5,-298.5 70.5,-298.5 64.5,-292.5 64.5,-286.5 64.5,-286.5 64.5,-242.5 64.5,-242.5 64.5,-236.5 70.5,-230.5 76.5,-230.5 76.5,-230.5 175.5,-230.5 175.5,-230.5 181.5,-230.5 187.5,-236.5 187.5,-242.5 187.5,-242.5 187.5,-286.5 187.5,-286.5 187.5,-292.5 181.5,-298.5 175.5,-298.5\"/>\n<text text-anchor=\"start\" x=\"96.5\" y=\"-283.3\" font-family=\"Helvetica,sans-Serif\" font-size=\"14.00\" fill=\"#000000\">gini = 0.0</text>\n<text text-anchor=\"start\" x=\"82\" y=\"-268.3\" font-family=\"Helvetica,sans-Serif\" font-size=\"14.00\" fill=\"#000000\">samples = 45</text>\n<text text-anchor=\"start\" x=\"72.5\" y=\"-253.3\" font-family=\"Helvetica,sans-Serif\" font-size=\"14.00\" fill=\"#000000\">value = [45, 0, 0]</text>\n<text text-anchor=\"start\" x=\"79\" y=\"-238.3\" font-family=\"Helvetica,sans-Serif\" font-size=\"14.00\" fill=\"#000000\">class = setosa</text>\n</g>\n<!-- 0&#45;&gt;1 -->\n<g id=\"edge1\" class=\"edge\">\n<title>0&#45;&gt;1</title>\n<path fill=\"none\" stroke=\"#000000\" d=\"M178.0199,-341.8796C170.4797,-330.6636 162.3113,-318.5131 154.7309,-307.2372\"/>\n<polygon fill=\"#000000\" stroke=\"#000000\" points=\"157.5527,-305.1612 149.0689,-298.8149 151.7434,-309.0667 157.5527,-305.1612\"/>\n<text text-anchor=\"middle\" x=\"144.2608\" y=\"-319.6482\" font-family=\"Helvetica,sans-Serif\" font-size=\"14.00\" fill=\"#000000\">True</text>\n</g>\n<!-- 2 -->\n<g id=\"node3\" class=\"node\">\n<title>2</title>\n<path fill=\"#eefdf4\" stroke=\"#000000\" d=\"M354.5,-306C354.5,-306 217.5,-306 217.5,-306 211.5,-306 205.5,-300 205.5,-294 205.5,-294 205.5,-235 205.5,-235 205.5,-229 211.5,-223 217.5,-223 217.5,-223 354.5,-223 354.5,-223 360.5,-223 366.5,-229 366.5,-235 366.5,-235 366.5,-294 366.5,-294 366.5,-300 360.5,-306 354.5,-306\"/>\n<text text-anchor=\"start\" x=\"213.5\" y=\"-290.8\" font-family=\"Helvetica,sans-Serif\" font-size=\"14.00\" fill=\"#000000\">petal width (cm) ≤ 1.75</text>\n<text text-anchor=\"start\" x=\"248\" y=\"-275.8\" font-family=\"Helvetica,sans-Serif\" font-size=\"14.00\" fill=\"#000000\">gini = 0.499</text>\n<text text-anchor=\"start\" x=\"242\" y=\"-260.8\" font-family=\"Helvetica,sans-Serif\" font-size=\"14.00\" fill=\"#000000\">samples = 90</text>\n<text text-anchor=\"start\" x=\"228.5\" y=\"-245.8\" font-family=\"Helvetica,sans-Serif\" font-size=\"14.00\" fill=\"#000000\">value = [0, 47, 43]</text>\n<text text-anchor=\"start\" x=\"230\" y=\"-230.8\" font-family=\"Helvetica,sans-Serif\" font-size=\"14.00\" fill=\"#000000\">class = versicolor</text>\n</g>\n<!-- 0&#45;&gt;2 -->\n<g id=\"edge2\" class=\"edge\">\n<title>0&#45;&gt;2</title>\n<path fill=\"none\" stroke=\"#000000\" d=\"M233.9801,-341.8796C239.8531,-333.1434 246.1073,-323.8404 252.1679,-314.8253\"/>\n<polygon fill=\"#000000\" stroke=\"#000000\" points=\"255.2259,-316.5498 257.9005,-306.2981 249.4166,-312.6444 255.2259,-316.5498\"/>\n<text text-anchor=\"middle\" x=\"262.7085\" y=\"-327.1314\" font-family=\"Helvetica,sans-Serif\" font-size=\"14.00\" fill=\"#000000\">False</text>\n</g>\n<!-- 3 -->\n<g id=\"node4\" class=\"node\">\n<title>3</title>\n<path fill=\"#4fe88f\" stroke=\"#000000\" d=\"M265.5,-187C265.5,-187 122.5,-187 122.5,-187 116.5,-187 110.5,-181 110.5,-175 110.5,-175 110.5,-116 110.5,-116 110.5,-110 116.5,-104 122.5,-104 122.5,-104 265.5,-104 265.5,-104 271.5,-104 277.5,-110 277.5,-116 277.5,-116 277.5,-175 277.5,-175 277.5,-181 271.5,-187 265.5,-187\"/>\n<text text-anchor=\"start\" x=\"118.5\" y=\"-171.8\" font-family=\"Helvetica,sans-Serif\" font-size=\"14.00\" fill=\"#000000\">petal length (cm) ≤ 4.95</text>\n<text text-anchor=\"start\" x=\"156\" y=\"-156.8\" font-family=\"Helvetica,sans-Serif\" font-size=\"14.00\" fill=\"#000000\">gini = 0.177</text>\n<text text-anchor=\"start\" x=\"150\" y=\"-141.8\" font-family=\"Helvetica,sans-Serif\" font-size=\"14.00\" fill=\"#000000\">samples = 51</text>\n<text text-anchor=\"start\" x=\"140.5\" y=\"-126.8\" font-family=\"Helvetica,sans-Serif\" font-size=\"14.00\" fill=\"#000000\">value = [0, 46, 5]</text>\n<text text-anchor=\"start\" x=\"138\" y=\"-111.8\" font-family=\"Helvetica,sans-Serif\" font-size=\"14.00\" fill=\"#000000\">class = versicolor</text>\n</g>\n<!-- 2&#45;&gt;3 -->\n<g id=\"edge3\" class=\"edge\">\n<title>2&#45;&gt;3</title>\n<path fill=\"none\" stroke=\"#000000\" d=\"M253.8229,-222.8796C246.9296,-213.9633 239.5798,-204.4565 232.4761,-195.268\"/>\n<polygon fill=\"#000000\" stroke=\"#000000\" points=\"235.1999,-193.0687 226.3145,-187.2981 229.6619,-197.3502 235.1999,-193.0687\"/>\n</g>\n<!-- 6 -->\n<g id=\"node7\" class=\"node\">\n<title>6</title>\n<path fill=\"#843ee6\" stroke=\"#000000\" d=\"M450.5,-187C450.5,-187 307.5,-187 307.5,-187 301.5,-187 295.5,-181 295.5,-175 295.5,-175 295.5,-116 295.5,-116 295.5,-110 301.5,-104 307.5,-104 307.5,-104 450.5,-104 450.5,-104 456.5,-104 462.5,-110 462.5,-116 462.5,-116 462.5,-175 462.5,-175 462.5,-181 456.5,-187 450.5,-187\"/>\n<text text-anchor=\"start\" x=\"303.5\" y=\"-171.8\" font-family=\"Helvetica,sans-Serif\" font-size=\"14.00\" fill=\"#000000\">petal length (cm) ≤ 4.85</text>\n<text text-anchor=\"start\" x=\"345.5\" y=\"-156.8\" font-family=\"Helvetica,sans-Serif\" font-size=\"14.00\" fill=\"#000000\">gini = 0.05</text>\n<text text-anchor=\"start\" x=\"335\" y=\"-141.8\" font-family=\"Helvetica,sans-Serif\" font-size=\"14.00\" fill=\"#000000\">samples = 39</text>\n<text text-anchor=\"start\" x=\"325.5\" y=\"-126.8\" font-family=\"Helvetica,sans-Serif\" font-size=\"14.00\" fill=\"#000000\">value = [0, 1, 38]</text>\n<text text-anchor=\"start\" x=\"327.5\" y=\"-111.8\" font-family=\"Helvetica,sans-Serif\" font-size=\"14.00\" fill=\"#000000\">class = virginica</text>\n</g>\n<!-- 2&#45;&gt;6 -->\n<g id=\"edge6\" class=\"edge\">\n<title>2&#45;&gt;6</title>\n<path fill=\"none\" stroke=\"#000000\" d=\"M318.5269,-222.8796C325.4951,-213.9633 332.9247,-204.4565 340.1056,-195.268\"/>\n<polygon fill=\"#000000\" stroke=\"#000000\" points=\"342.9343,-197.3326 346.3343,-187.2981 337.4188,-193.0221 342.9343,-197.3326\"/>\n</g>\n<!-- 4 -->\n<g id=\"node5\" class=\"node\">\n<title>4</title>\n<path fill=\"#3de684\" stroke=\"#000000\" d=\"M116,-68C116,-68 12,-68 12,-68 6,-68 0,-62 0,-56 0,-56 0,-12 0,-12 0,-6 6,0 12,0 12,0 116,0 116,0 122,0 128,-6 128,-12 128,-12 128,-56 128,-56 128,-62 122,-68 116,-68\"/>\n<text text-anchor=\"start\" x=\"26\" y=\"-52.8\" font-family=\"Helvetica,sans-Serif\" font-size=\"14.00\" fill=\"#000000\">gini = 0.043</text>\n<text text-anchor=\"start\" x=\"20\" y=\"-37.8\" font-family=\"Helvetica,sans-Serif\" font-size=\"14.00\" fill=\"#000000\">samples = 45</text>\n<text text-anchor=\"start\" x=\"10.5\" y=\"-22.8\" font-family=\"Helvetica,sans-Serif\" font-size=\"14.00\" fill=\"#000000\">value = [0, 44, 1]</text>\n<text text-anchor=\"start\" x=\"8\" y=\"-7.8\" font-family=\"Helvetica,sans-Serif\" font-size=\"14.00\" fill=\"#000000\">class = versicolor</text>\n</g>\n<!-- 3&#45;&gt;4 -->\n<g id=\"edge4\" class=\"edge\">\n<title>3&#45;&gt;4</title>\n<path fill=\"none\" stroke=\"#000000\" d=\"M145.5928,-103.9815C134.5558,-94.5151 122.8347,-84.462 111.8223,-75.0168\"/>\n<polygon fill=\"#000000\" stroke=\"#000000\" points=\"113.8178,-72.1173 103.9487,-68.2637 109.2606,-77.4307 113.8178,-72.1173\"/>\n</g>\n<!-- 5 -->\n<g id=\"node6\" class=\"node\">\n<title>5</title>\n<path fill=\"#c09cf2\" stroke=\"#000000\" d=\"M253.5,-68C253.5,-68 158.5,-68 158.5,-68 152.5,-68 146.5,-62 146.5,-56 146.5,-56 146.5,-12 146.5,-12 146.5,-6 152.5,0 158.5,0 158.5,0 253.5,0 253.5,0 259.5,0 265.5,-6 265.5,-12 265.5,-12 265.5,-56 265.5,-56 265.5,-62 259.5,-68 253.5,-68\"/>\n<text text-anchor=\"start\" x=\"168\" y=\"-52.8\" font-family=\"Helvetica,sans-Serif\" font-size=\"14.00\" fill=\"#000000\">gini = 0.444</text>\n<text text-anchor=\"start\" x=\"166.5\" y=\"-37.8\" font-family=\"Helvetica,sans-Serif\" font-size=\"14.00\" fill=\"#000000\">samples = 6</text>\n<text text-anchor=\"start\" x=\"156.5\" y=\"-22.8\" font-family=\"Helvetica,sans-Serif\" font-size=\"14.00\" fill=\"#000000\">value = [0, 2, 4]</text>\n<text text-anchor=\"start\" x=\"154.5\" y=\"-7.8\" font-family=\"Helvetica,sans-Serif\" font-size=\"14.00\" fill=\"#000000\">class = virginica</text>\n</g>\n<!-- 3&#45;&gt;5 -->\n<g id=\"edge5\" class=\"edge\">\n<title>3&#45;&gt;5</title>\n<path fill=\"none\" stroke=\"#000000\" d=\"M198.4684,-103.9815C199.3685,-95.618 200.3179,-86.7965 201.2279,-78.3409\"/>\n<polygon fill=\"#000000\" stroke=\"#000000\" points=\"204.7222,-78.5808 202.3124,-68.2637 197.7624,-77.8317 204.7222,-78.5808\"/>\n</g>\n<!-- 7 -->\n<g id=\"node8\" class=\"node\">\n<title>7</title>\n<path fill=\"#c09cf2\" stroke=\"#000000\" d=\"M414.5,-68C414.5,-68 319.5,-68 319.5,-68 313.5,-68 307.5,-62 307.5,-56 307.5,-56 307.5,-12 307.5,-12 307.5,-6 313.5,0 319.5,0 319.5,0 414.5,0 414.5,0 420.5,0 426.5,-6 426.5,-12 426.5,-12 426.5,-56 426.5,-56 426.5,-62 420.5,-68 414.5,-68\"/>\n<text text-anchor=\"start\" x=\"329\" y=\"-52.8\" font-family=\"Helvetica,sans-Serif\" font-size=\"14.00\" fill=\"#000000\">gini = 0.444</text>\n<text text-anchor=\"start\" x=\"327.5\" y=\"-37.8\" font-family=\"Helvetica,sans-Serif\" font-size=\"14.00\" fill=\"#000000\">samples = 3</text>\n<text text-anchor=\"start\" x=\"317.5\" y=\"-22.8\" font-family=\"Helvetica,sans-Serif\" font-size=\"14.00\" fill=\"#000000\">value = [0, 1, 2]</text>\n<text text-anchor=\"start\" x=\"315.5\" y=\"-7.8\" font-family=\"Helvetica,sans-Serif\" font-size=\"14.00\" fill=\"#000000\">class = virginica</text>\n</g>\n<!-- 6&#45;&gt;7 -->\n<g id=\"edge7\" class=\"edge\">\n<title>6&#45;&gt;7</title>\n<path fill=\"none\" stroke=\"#000000\" d=\"M374.5316,-103.9815C373.6315,-95.618 372.6821,-86.7965 371.7721,-78.3409\"/>\n<polygon fill=\"#000000\" stroke=\"#000000\" points=\"375.2376,-77.8317 370.6876,-68.2637 368.2778,-78.5808 375.2376,-77.8317\"/>\n</g>\n<!-- 8 -->\n<g id=\"node9\" class=\"node\">\n<title>8</title>\n<path fill=\"#8139e5\" stroke=\"#000000\" d=\"M555.5,-68C555.5,-68 456.5,-68 456.5,-68 450.5,-68 444.5,-62 444.5,-56 444.5,-56 444.5,-12 444.5,-12 444.5,-6 450.5,0 456.5,0 456.5,0 555.5,0 555.5,0 561.5,0 567.5,-6 567.5,-12 567.5,-12 567.5,-56 567.5,-56 567.5,-62 561.5,-68 555.5,-68\"/>\n<text text-anchor=\"start\" x=\"476.5\" y=\"-52.8\" font-family=\"Helvetica,sans-Serif\" font-size=\"14.00\" fill=\"#000000\">gini = 0.0</text>\n<text text-anchor=\"start\" x=\"462\" y=\"-37.8\" font-family=\"Helvetica,sans-Serif\" font-size=\"14.00\" fill=\"#000000\">samples = 36</text>\n<text text-anchor=\"start\" x=\"452.5\" y=\"-22.8\" font-family=\"Helvetica,sans-Serif\" font-size=\"14.00\" fill=\"#000000\">value = [0, 0, 36]</text>\n<text text-anchor=\"start\" x=\"454.5\" y=\"-7.8\" font-family=\"Helvetica,sans-Serif\" font-size=\"14.00\" fill=\"#000000\">class = virginica</text>\n</g>\n<!-- 6&#45;&gt;8 -->\n<g id=\"edge8\" class=\"edge\">\n<title>6&#45;&gt;8</title>\n<path fill=\"none\" stroke=\"#000000\" d=\"M426.2901,-103.9815C437.0725,-94.5151 448.523,-84.462 459.2813,-75.0168\"/>\n<polygon fill=\"#000000\" stroke=\"#000000\" points=\"461.7676,-77.4915 466.9732,-68.2637 457.1493,-72.2311 461.7676,-77.4915\"/>\n</g>\n</g>\n</svg>\n"
          },
          "metadata": {
            "tags": []
          },
          "execution_count": 62
        }
      ]
    },
    {
      "cell_type": "code",
      "metadata": {
        "colab": {
          "base_uri": "https://localhost:8080/"
        },
        "id": "4cq6rGsXBptt",
        "outputId": "f5ca70fd-fbfe-4e9f-aeaa-4d74dd46832a"
      },
      "source": [
        "pre =clf.predict(x_test)\n",
        "print('預測標籤',list(pre))\n",
        "print('真正標籤',list(y_test))"
      ],
      "execution_count": 63,
      "outputs": [
        {
          "output_type": "stream",
          "text": [
            "預測標籤 [2, 1, 2, 2, 0, 2, 0, 2, 1, 0, 0, 2, 2, 0, 1]\n",
            "真正標籤 [2, 1, 2, 2, 0, 2, 0, 2, 1, 0, 0, 2, 2, 0, 1]\n"
          ],
          "name": "stdout"
        }
      ]
    },
    {
      "cell_type": "code",
      "metadata": {
        "colab": {
          "base_uri": "https://localhost:8080/"
        },
        "id": "cXFPc52TPwsh",
        "outputId": "7326bec7-846b-4907-c468-8a84d72a78c2"
      },
      "source": [
        "from sklearn.metrics import accuracy_score\n",
        "accuracy_score(y_test,pre)"
      ],
      "execution_count": 64,
      "outputs": [
        {
          "output_type": "execute_result",
          "data": {
            "text/plain": [
              "1.0"
            ]
          },
          "metadata": {
            "tags": []
          },
          "execution_count": 64
        }
      ]
    },
    {
      "cell_type": "code",
      "metadata": {
        "colab": {
          "base_uri": "https://localhost:8080/",
          "height": 142
        },
        "id": "N_hR0taCQCTJ",
        "outputId": "5b1bcb09-db06-4174-90f1-e0708ab95843"
      },
      "source": [
        "from sklearn.metrics import confusion_matrix\n",
        "pd.DataFrame(confusion_matrix(y_test,pre))"
      ],
      "execution_count": 65,
      "outputs": [
        {
          "output_type": "execute_result",
          "data": {
            "text/html": [
              "<div>\n",
              "<style scoped>\n",
              "    .dataframe tbody tr th:only-of-type {\n",
              "        vertical-align: middle;\n",
              "    }\n",
              "\n",
              "    .dataframe tbody tr th {\n",
              "        vertical-align: top;\n",
              "    }\n",
              "\n",
              "    .dataframe thead th {\n",
              "        text-align: right;\n",
              "    }\n",
              "</style>\n",
              "<table border=\"1\" class=\"dataframe\">\n",
              "  <thead>\n",
              "    <tr style=\"text-align: right;\">\n",
              "      <th></th>\n",
              "      <th>0</th>\n",
              "      <th>1</th>\n",
              "      <th>2</th>\n",
              "    </tr>\n",
              "  </thead>\n",
              "  <tbody>\n",
              "    <tr>\n",
              "      <th>0</th>\n",
              "      <td>5</td>\n",
              "      <td>0</td>\n",
              "      <td>0</td>\n",
              "    </tr>\n",
              "    <tr>\n",
              "      <th>1</th>\n",
              "      <td>0</td>\n",
              "      <td>3</td>\n",
              "      <td>0</td>\n",
              "    </tr>\n",
              "    <tr>\n",
              "      <th>2</th>\n",
              "      <td>0</td>\n",
              "      <td>0</td>\n",
              "      <td>7</td>\n",
              "    </tr>\n",
              "  </tbody>\n",
              "</table>\n",
              "</div>"
            ],
            "text/plain": [
              "   0  1  2\n",
              "0  5  0  0\n",
              "1  0  3  0\n",
              "2  0  0  7"
            ]
          },
          "metadata": {
            "tags": []
          },
          "execution_count": 65
        }
      ]
    },
    {
      "cell_type": "code",
      "metadata": {
        "id": "A5v00NKfS-hS"
      },
      "source": [
        ""
      ],
      "execution_count": 65,
      "outputs": []
    }
  ]
}