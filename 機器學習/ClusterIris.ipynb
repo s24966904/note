{
  "nbformat": 4,
  "nbformat_minor": 0,
  "metadata": {
    "colab": {
      "name": "Cluster.ipynb",
      "provenance": [],
      "authorship_tag": "ABX9TyOCbU+eAKUyaqCBQM2g1l8V",
      "include_colab_link": true
    },
    "kernelspec": {
      "name": "python3",
      "display_name": "Python 3"
    }
  },
  "cells": [
    {
      "cell_type": "markdown",
      "metadata": {
        "id": "view-in-github",
        "colab_type": "text"
      },
      "source": [
        "<a href=\"https://colab.research.google.com/github/s24966904/note/blob/main/%E6%A9%9F%E5%99%A8%E5%AD%B8%E7%BF%92/Cluster.ipynb\" target=\"_parent\"><img src=\"https://colab.research.google.com/assets/colab-badge.svg\" alt=\"Open In Colab\"/></a>"
      ]
    },
    {
      "cell_type": "code",
      "metadata": {
        "id": "aQ6-IiQI5Y_r"
      },
      "source": [
        "from sklearn.datasets import load_iris\n",
        "iris = load_iris()"
      ],
      "execution_count": 1,
      "outputs": []
    },
    {
      "cell_type": "code",
      "metadata": {
        "id": "lgK0Ne_V5hg_"
      },
      "source": [
        "import pandas as pd\n",
        "\n",
        "df=pd.DataFrame(iris[\"data\"],columns=['sepal length (cm)',\n",
        "  'sepal width (cm)',\n",
        "  'petal length (cm)',\n",
        "  'petal width (cm)'])\n",
        "\n",
        "target=pd.DataFrame(iris[\"target\"],columns=['target_names'])\n",
        "df[\"target\"]=target\n",
        "df.to_csv(\"iris.csv\",encoding=\"utf-8\",index=False)"
      ],
      "execution_count": 2,
      "outputs": []
    },
    {
      "cell_type": "code",
      "metadata": {
        "id": "Uw4T3qSgJo0j"
      },
      "source": [
        "from sklearn.model_selection import train_test_split\n",
        "x_train,x_test,y_train,y_test=train_test_split(df.drop(['target'],axis=1),df['target'],test_size=.1)"
      ],
      "execution_count": 3,
      "outputs": []
    },
    {
      "cell_type": "code",
      "metadata": {
        "colab": {
          "base_uri": "https://localhost:8080/"
        },
        "id": "psYd4pD16hw9",
        "outputId": "bdde60a2-6720-43d7-b984-ec98eaea4521"
      },
      "source": [
        "from sklearn.cluster import KMeans\n",
        "clu=KMeans(n_clusters=3)\n",
        "clu.fit(x_train)"
      ],
      "execution_count": 4,
      "outputs": [
        {
          "output_type": "execute_result",
          "data": {
            "text/plain": [
              "KMeans(algorithm='auto', copy_x=True, init='k-means++', max_iter=300,\n",
              "       n_clusters=3, n_init=10, n_jobs=None, precompute_distances='auto',\n",
              "       random_state=None, tol=0.0001, verbose=0)"
            ]
          },
          "metadata": {
            "tags": []
          },
          "execution_count": 4
        }
      ]
    },
    {
      "cell_type": "code",
      "metadata": {
        "colab": {
          "base_uri": "https://localhost:8080/"
        },
        "id": "Oe9BMcv8-PVy",
        "outputId": "2adab1ab-bc14-4b4a-817e-caf4131d1c47"
      },
      "source": [
        "clu.labels_"
      ],
      "execution_count": 5,
      "outputs": [
        {
          "output_type": "execute_result",
          "data": {
            "text/plain": [
              "array([1, 1, 1, 2, 2, 0, 2, 0, 2, 0, 1, 1, 0, 1, 0, 2, 2, 2, 0, 1, 1, 1,\n",
              "       2, 0, 0, 2, 1, 2, 0, 2, 0, 1, 2, 2, 1, 2, 1, 1, 2, 0, 2, 2, 1, 0,\n",
              "       0, 0, 1, 0, 2, 2, 0, 2, 2, 2, 2, 0, 1, 2, 1, 2, 2, 2, 2, 1, 0, 1,\n",
              "       2, 1, 0, 1, 2, 2, 1, 1, 2, 2, 2, 2, 1, 0, 0, 0, 2, 2, 0, 1, 1, 1,\n",
              "       1, 0, 2, 0, 1, 1, 2, 1, 2, 2, 1, 0, 2, 1, 2, 2, 2, 2, 1, 2, 0, 2,\n",
              "       2, 0, 1, 2, 0, 0, 1, 0, 2, 1, 0, 0, 0, 1, 2, 1, 0, 0, 1, 1, 2, 1,\n",
              "       1, 2, 1], dtype=int32)"
            ]
          },
          "metadata": {
            "tags": []
          },
          "execution_count": 5
        }
      ]
    },
    {
      "cell_type": "code",
      "metadata": {
        "colab": {
          "base_uri": "https://localhost:8080/"
        },
        "id": "4cq6rGsXBptt",
        "outputId": "288ad26c-0898-43f0-92e5-0beba85bc377"
      },
      "source": [
        "from sklearn.metrics import accuracy_score\n",
        "\n",
        "pre =clu.predict(x_test)\n",
        "print('預測標籤',list(pre))\n",
        "print('真正標籤',list(y_test))\n",
        "accuracy_score(pre,y_test)"
      ],
      "execution_count": 6,
      "outputs": [
        {
          "output_type": "stream",
          "text": [
            "預測標籤 [2, 2, 1, 1, 2, 2, 0, 2, 1, 1, 0, 2, 1, 2, 0]\n",
            "真正標籤 [1, 1, 0, 0, 1, 1, 2, 1, 0, 0, 2, 2, 0, 1, 2]\n"
          ],
          "name": "stdout"
        },
        {
          "output_type": "execute_result",
          "data": {
            "text/plain": [
              "0.06666666666666667"
            ]
          },
          "metadata": {
            "tags": []
          },
          "execution_count": 6
        }
      ]
    },
    {
      "cell_type": "code",
      "metadata": {
        "colab": {
          "base_uri": "https://localhost:8080/"
        },
        "id": "Cn5Ul8QDOfYv",
        "outputId": "c95a7b7e-0f61-467e-eaf0-86320e37a306"
      },
      "source": [
        "from sklearn.metrics import silhouette_score\n",
        "\n",
        "x=df.drop(['target'],axis=1)\n",
        "plotx=[]\n",
        "ploty=[]\n",
        "\n",
        "for k in range(2,6):\n",
        "\n",
        "  clu=KMeans(n_clusters=k)\n",
        "  clu.fit(x)\n",
        "  s= silhouette_score(x,clu.labels_)\n",
        "  plotx.append(k)\n",
        "  ploty.append(s)\n",
        "\n",
        "print('K值:',plotx)\n",
        "print('Score值：',ploty)"
      ],
      "execution_count": 7,
      "outputs": [
        {
          "output_type": "stream",
          "text": [
            "K值: [2, 3, 4, 5]\n",
            "Score值： [0.681046169211746, 0.5528190123564091, 0.49745518901737446, 0.4887488870931048]\n"
          ],
          "name": "stdout"
        }
      ]
    },
    {
      "cell_type": "code",
      "metadata": {
        "colab": {
          "base_uri": "https://localhost:8080/",
          "height": 312
        },
        "id": "nBSPfk3La_IS",
        "outputId": "b5cbf9b3-e656-477b-e40a-6105c9da8da4"
      },
      "source": [
        "import matplotlib.pyplot as plt\n",
        "plt.plot(plotx,ploty,'x--g')\n",
        "plt.title('Silhouette Score')\n",
        "plt.xlabel('K')\n",
        "plt.ylabel('score')\n"
      ],
      "execution_count": 10,
      "outputs": [
        {
          "output_type": "execute_result",
          "data": {
            "text/plain": [
              "Text(0, 0.5, 'score')"
            ]
          },
          "metadata": {
            "tags": []
          },
          "execution_count": 10
        },
        {
          "output_type": "display_data",
          "data": {
            "image/png": "[encoded data removed]",
            "text/plain": [
              "<Figure size 432x288 with 1 Axes>"
            ]
          },
          "metadata": {
            "tags": [],
            "needs_background": "light"
          }
        }
      ]
    },
    {
      "cell_type": "code",
      "metadata": {
        "id": "Dt-u1XrOgxxv"
      },
      "source": [
        ""
      ],
      "execution_count": null,
      "outputs": []
    }
  ]
}
