{
  "nbformat": 4,
  "nbformat_minor": 0,
  "metadata": {
    "colab": {
      "name": "早安健康爬蟲.ipynb",
      "provenance": [],
      "collapsed_sections": [],
      "include_colab_link": true
    },
    "kernelspec": {
      "name": "python3",
      "display_name": "Python 3"
    }
  },
  "cells": [
    {
      "cell_type": "markdown",
      "metadata": {
        "id": "view-in-github",
        "colab_type": "text"
      },
      "source": [
        "<a href=\"https://colab.research.google.com/github/s24966904/note/blob/main/%E6%97%A9%E5%AE%89%E5%81%A5%E5%BA%B7%E7%88%AC%E8%9F%B2.ipynb\" target=\"_parent\"><img src=\"https://colab.research.google.com/assets/colab-badge.svg\" alt=\"Open In Colab\"/></a>"
      ]
    },
    {
      "cell_type": "code",
      "metadata": {
        "colab": {
          "base_uri": "https://localhost:8080/"
        },
        "id": "mxnV54mS9iZ9",
        "outputId": "93cf607f-80d7-41b0-a9cb-f59f4317e65c"
      },
      "source": [
        "##Import modules\r\n",
        "from bs4 import BeautifulSoup\r\n",
        "from urllib.request import urlopen\r\n",
        "import re\r\n",
        "import pandas as pd\r\n",
        "\r\n",
        "def find_between( s, first, last ):\r\n",
        "    try:\r\n",
        "        start = s.index( first ) + len( first )\r\n",
        "        end = s.index( last, start )\r\n",
        "        return s[start:end]\r\n",
        "    except ValueError:\r\n",
        "        return \"\"\r\n",
        "\r\n",
        "##Grab the page\r\n",
        "\r\n",
        "datas = {\r\n",
        "    \"title\":[],\r\n",
        "    \"content\":[],\r\n",
        "    \"category\":[]\r\n",
        "}\r\n",
        "\r\n",
        "\r\n",
        "\r\n",
        "for t in range (200,201):\r\n",
        "  try:\r\n",
        "    url = \"https://www.edh.tw/category/\"+str(t)+\"/index/1\"\r\n",
        "    #url = \"https://www.edh.tw/article/\" + str(x)\r\n",
        "    content = urlopen(url).read()\r\n",
        "    soup = BeautifulSoup(content)\r\n",
        "    straz0 = str(soup)\r\n",
        "    straz = straz0.replace('<div class=\"grid-article\"><a class=\"detail\" href=\"/article/',\"\")\r\n",
        "    straz2 = straz.replace('\">',\"\")\r\n",
        "    listn = [int(s) for s in straz2.split() if s.isdigit() and int(s) < 100000 and int(s) > 9999]\r\n",
        "    #print(listn)\r\n",
        "    #print(find_between(str(soup), '<div class=\"grid-article\"><a class=\"detail\" href=\"/article/', '\">' ))\r\n",
        "    for x in listn:\r\n",
        "      try:\r\n",
        "        url = \"https://www.edh.tw/article/\" + str(x)\r\n",
        "        content = urlopen(url).read()\r\n",
        "        soup = BeautifulSoup(content)\r\n",
        "        stra = find_between(str(soup), '<article><div id=\"article_page\" itemprop=\"articleBody\">', '</div></article>' )\r\n",
        "        extra = find_between(str(stra), '【', '】' )\r\n",
        "        extra = '【' + extra + '】'\r\n",
        "        stra = stra.replace(extra,'')\r\n",
        "        stra2 = stra.replace(\"yahoo_moments.init();\",\"\")\r\n",
        "        datas[\"title\"].append(find_between(str(soup), \"<title>\", \"</title>\" ))\r\n",
        "        datas[\"content\"].append(re.sub('<[^>]+>', '', stra2))\r\n",
        "        datas[\"category\"].append(find_between(str(soup), \"'Category':'\", \"',\" ))\r\n",
        "        #print(soup)\r\n",
        "        #print(find_between(str(soup), \"<title>\", \"</title>\" ))\r\n",
        "        #print(re.sub('<[^>]+>', '', stra2))\r\n",
        "        #print(find_between(str(soup), \"'Category':'\", \"',\" ))\r\n",
        "        #print(x)\r\n",
        "      except:\r\n",
        "        print(\"No article exist!\")\r\n",
        "    print(t)\r\n",
        "  except:\r\n",
        "    print(\"No category exist!\")\r\n",
        "view = pd.DataFrame(datas)"
      ],
      "execution_count": null,
      "outputs": [
        {
          "output_type": "stream",
          "text": [
            "200\n"
          ],
          "name": "stdout"
        }
      ]
    },
    {
      "cell_type": "code",
      "metadata": {
        "colab": {
          "base_uri": "https://localhost:8080/",
          "height": 611
        },
        "id": "j55WislLcCyv",
        "outputId": "65e75db1-f720-495c-9e1e-49b9709b3525"
      },
      "source": [
        "pd.set_option('display.max_columns', None)\r\n",
        "pd.set_option('display.max_rows', None)\r\n",
        "view"
      ],
      "execution_count": null,
      "outputs": [
        {
          "output_type": "execute_result",
          "data": {
            "text/html": [
              "<div>\n",
              "<style scoped>\n",
              "    .dataframe tbody tr th:only-of-type {\n",
              "        vertical-align: middle;\n",
              "    }\n",
              "\n",
              "    .dataframe tbody tr th {\n",
              "        vertical-align: top;\n",
              "    }\n",
              "\n",
              "    .dataframe thead th {\n",
              "        text-align: right;\n",
              "    }\n",
              "</style>\n",
              "<table border=\"1\" class=\"dataframe\">\n",
              "  <thead>\n",
              "    <tr style=\"text-align: right;\">\n",
              "      <th></th>\n",
              "      <th>title</th>\n",
              "      <th>content</th>\n",
              "      <th>category</th>\n",
              "    </tr>\n",
              "  </thead>\n",
              "  <tbody>\n",
              "    <tr>\n",
              "      <th>0</th>\n",
              "      <td>才33歲就心肌梗塞！隱藏版禍首「第四高」比三高更危險 |早安健康</td>\n",
              "      <td>新竹一名33歲彭姓竹科工程師最近突然頭暈、嘔吐，從心臟傳來一陣陣疼痛，緊急到新竹東元醫院急診...</td>\n",
              "      <td>健康話題</td>\n",
              "    </tr>\n",
              "    <tr>\n",
              "      <th>1</th>\n",
              "      <td>不忌口小心致癌物吃下肚！營養師點名：這3種年菜最NG |早安健康</td>\n",
              "      <td>過年年菜大魚大肉，小心年節氣氛下，一不小心壞了健康！一頓年菜吃下來，你曾經算過到底吃了什麼嗎...</td>\n",
              "      <td>健康話題</td>\n",
              "    </tr>\n",
              "    <tr>\n",
              "      <th>2</th>\n",
              "      <td>【新冠肺炎／不斷更新】本土+0，境外+1，40多歲本國籍男子自墨西哥乘緊急醫療專機返台......</td>\n",
              "      <td>（1月26日 14：30更新） \\n  無新增本土確診案例，新增1例境外移入，自墨西哥返台。...</td>\n",
              "      <td>健康話題</td>\n",
              "    </tr>\n",
              "    <tr>\n",
              "      <th>3</th>\n",
              "      <td>口罩「中鉛」！鉛可以藏身25年，專家教3類食物排鉛毒自保 |早安健康</td>\n",
              "      <td>自新冠病毒爆發後，口罩成為民眾日常配戴的防疫必備單品，但近期卻傳出彩色口罩可能含有致癌因子的...</td>\n",
              "      <td>健康話題</td>\n",
              "    </tr>\n",
              "    <tr>\n",
              "      <th>4</th>\n",
              "      <td>桃醫護理師自願隔離，FB萬人留言打氣！民眾卡片、物資湧入同挺醫護 |早安健康</td>\n",
              "      <td>自首位染疫醫師出現開始，部立桃園醫院又接連傳出確診本土案例，桃醫在面對無法預知變化的疫情、高...</td>\n",
              "      <td>健康話題</td>\n",
              "    </tr>\n",
              "    <tr>\n",
              "      <th>5</th>\n",
              "      <td>名醫江坤俊：維生素D不足，感染新冠機率更高！維持好免疫就靠3招適量補D |早安健康</td>\n",
              "      <td>新冠病毒疫情連日爆本土確診案例，引發社會大眾憂心。對此，桃園敏盛醫院副院長江坤俊醫師在個人臉...</td>\n",
              "      <td>健康話題</td>\n",
              "    </tr>\n",
              "    <tr>\n",
              "      <th>6</th>\n",
              "      <td>別讓食物殘渣成了排不掉的毒，這樣吃打造一天兩次排毒！ |早安健康</td>\n",
              "      <td>\\n人體最重要的排毒，我一天兩次\\n\\n身體排毒的方式很多，除了上述我說的體能活動排汗外，...</td>\n",
              "      <td>健康話題</td>\n",
              "    </tr>\n",
              "    <tr>\n",
              "      <th>7</th>\n",
              "      <td>天天3顆不顯老！這種補氣血聖品維生素C是蘋果75倍 |早安健康</td>\n",
              "      <td>\\n五穀加小棗，勝似靈芝草\\n\\n從母校畢業幾十年了，每當重大節日，比如「畢業十年」「校慶...</td>\n",
              "      <td>健康話題</td>\n",
              "    </tr>\n",
              "    <tr>\n",
              "      <th>8</th>\n",
              "      <td>才33歲就心肌梗塞！隱藏版禍首「第四高」比三高更危險 |早安健康</td>\n",
              "      <td>新竹一名33歲彭姓竹科工程師最近突然頭暈、嘔吐，從心臟傳來一陣陣疼痛，緊急到新竹東元醫院急診...</td>\n",
              "      <td>健康話題</td>\n",
              "    </tr>\n",
              "    <tr>\n",
              "      <th>9</th>\n",
              "      <td>水果、鬆餅當早餐竟會加速老化！避開4NG早餐 |早安健康</td>\n",
              "      <td>早餐對健康的重要性已經成為普遍常識，然而每天一睜開眼睛趕著上班、送小孩上學，剛起床又沒什麼胃...</td>\n",
              "      <td>健康話題</td>\n",
              "    </tr>\n",
              "    <tr>\n",
              "      <th>10</th>\n",
              "      <td>1＋1＞2！蛋白質有7個神隊友，幫助強化肌肉、燃脂代謝UP！ |早安健康</td>\n",
              "      <td>\\n一併攝取可提升代謝效果的成分\\n\\n一如前述，蛋白質需要與維生素B2、B6、B12這類...</td>\n",
              "      <td>健康話題</td>\n",
              "    </tr>\n",
              "    <tr>\n",
              "      <th>11</th>\n",
              "      <td>【新冠肺炎／不斷更新】本土+0，境外+1，40多歲本國籍男子自墨西哥乘緊急醫療專機返台......</td>\n",
              "      <td>（1月26日 14：30更新） \\n  無新增本土確診案例，新增1例境外移入，自墨西哥返台。...</td>\n",
              "      <td>健康話題</td>\n",
              "    </tr>\n",
              "    <tr>\n",
              "      <th>12</th>\n",
              "      <td>指甲變黑是皮膚癌症狀？醫師：更該擔心的是這些疾病！ |早安健康</td>\n",
              "      <td>許多人可能都曾聽過「指甲有黑線或指甲變黑可能是皮膚癌的徵兆」這類的論述，從而擔心起自己的身體...</td>\n",
              "      <td>健康話題</td>\n",
              "    </tr>\n",
              "  </tbody>\n",
              "</table>\n",
              "</div>"
            ],
            "text/plain": [
              "                                                title  \\\n",
              "0                    才33歲就心肌梗塞！隱藏版禍首「第四高」比三高更危險 |早安健康   \n",
              "1                    不忌口小心致癌物吃下肚！營養師點名：這3種年菜最NG |早安健康   \n",
              "2   【新冠肺炎／不斷更新】本土+0，境外+1，40多歲本國籍男子自墨西哥乘緊急醫療專機返台......   \n",
              "3                  口罩「中鉛」！鉛可以藏身25年，專家教3類食物排鉛毒自保 |早安健康   \n",
              "4              桃醫護理師自願隔離，FB萬人留言打氣！民眾卡片、物資湧入同挺醫護 |早安健康   \n",
              "5           名醫江坤俊：維生素D不足，感染新冠機率更高！維持好免疫就靠3招適量補D |早安健康   \n",
              "6                    別讓食物殘渣成了排不掉的毒，這樣吃打造一天兩次排毒！ |早安健康   \n",
              "7                     天天3顆不顯老！這種補氣血聖品維生素C是蘋果75倍 |早安健康   \n",
              "8                    才33歲就心肌梗塞！隱藏版禍首「第四高」比三高更危險 |早安健康   \n",
              "9                        水果、鬆餅當早餐竟會加速老化！避開4NG早餐 |早安健康   \n",
              "10               1＋1＞2！蛋白質有7個神隊友，幫助強化肌肉、燃脂代謝UP！ |早安健康   \n",
              "11  【新冠肺炎／不斷更新】本土+0，境外+1，40多歲本國籍男子自墨西哥乘緊急醫療專機返台......   \n",
              "12                    指甲變黑是皮膚癌症狀？醫師：更該擔心的是這些疾病！ |早安健康   \n",
              "\n",
              "                                              content category  \n",
              "0   新竹一名33歲彭姓竹科工程師最近突然頭暈、嘔吐，從心臟傳來一陣陣疼痛，緊急到新竹東元醫院急診...     健康話題  \n",
              "1   過年年菜大魚大肉，小心年節氣氛下，一不小心壞了健康！一頓年菜吃下來，你曾經算過到底吃了什麼嗎...     健康話題  \n",
              "2   （1月26日 14：30更新） \\n  無新增本土確診案例，新增1例境外移入，自墨西哥返台。...     健康話題  \n",
              "3   自新冠病毒爆發後，口罩成為民眾日常配戴的防疫必備單品，但近期卻傳出彩色口罩可能含有致癌因子的...     健康話題  \n",
              "4   自首位染疫醫師出現開始，部立桃園醫院又接連傳出確診本土案例，桃醫在面對無法預知變化的疫情、高...     健康話題  \n",
              "5   新冠病毒疫情連日爆本土確診案例，引發社會大眾憂心。對此，桃園敏盛醫院副院長江坤俊醫師在個人臉...     健康話題  \n",
              "6    \\n人體最重要的排毒，我一天兩次\\n\\n身體排毒的方式很多，除了上述我說的體能活動排汗外，...     健康話題  \n",
              "7    \\n五穀加小棗，勝似靈芝草\\n\\n從母校畢業幾十年了，每當重大節日，比如「畢業十年」「校慶...     健康話題  \n",
              "8   新竹一名33歲彭姓竹科工程師最近突然頭暈、嘔吐，從心臟傳來一陣陣疼痛，緊急到新竹東元醫院急診...     健康話題  \n",
              "9   早餐對健康的重要性已經成為普遍常識，然而每天一睜開眼睛趕著上班、送小孩上學，剛起床又沒什麼胃...     健康話題  \n",
              "10   \\n一併攝取可提升代謝效果的成分\\n\\n一如前述，蛋白質需要與維生素B2、B6、B12這類...     健康話題  \n",
              "11  （1月26日 14：30更新） \\n  無新增本土確診案例，新增1例境外移入，自墨西哥返台。...     健康話題  \n",
              "12  許多人可能都曾聽過「指甲有黑線或指甲變黑可能是皮膚癌的徵兆」這類的論述，從而擔心起自己的身體...     健康話題  "
            ]
          },
          "metadata": {
            "tags": []
          },
          "execution_count": 12
        }
      ]
    },
    {
      "cell_type": "code",
      "metadata": {
        "colab": {
          "base_uri": "https://localhost:8080/"
        },
        "id": "T68EYdVMak8p",
        "outputId": "b0472fe1-5aa8-462f-c0b2-49789477a581"
      },
      "source": [
        "from google.colab import drive\n",
        "drive.mount('/content/drive')"
      ],
      "execution_count": null,
      "outputs": [
        {
          "output_type": "stream",
          "text": [
            "Drive already mounted at /content/drive; to attempt to forcibly remount, call drive.mount(\"/content/drive\", force_remount=True).\n"
          ],
          "name": "stdout"
        }
      ]
    },
    {
      "cell_type": "code",
      "metadata": {
        "id": "v-c0CitoYE6Q"
      },
      "source": [
        "view.to_csv(\"/content/drive/MyDrive/AI作業相關/早安健康.csv\",index=0)"
      ],
      "execution_count": null,
      "outputs": []
    }
  ]
}
